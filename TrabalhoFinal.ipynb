{
  "cells": [
    {
      "cell_type": "markdown",
      "metadata": {
        "id": "view-in-github",
        "colab_type": "text"
      },
      "source": [
        "<a href=\"https://colab.research.google.com/github/Skapooky/Atividade-Avaliativa/blob/main/TrabalhoFinal.ipynb\" target=\"_parent\"><img src=\"https://colab.research.google.com/assets/colab-badge.svg\" alt=\"Open In Colab\"/></a>"
      ]
    },
    {
      "cell_type": "markdown",
      "source": [
        "Rafaela de Miranda\n",
        "\n",
        "Guilherme Henrique Peres\n",
        "\n",
        "Henrique Anderle Schulz"
      ],
      "metadata": {
        "id": "L85GzLRzHhkn"
      }
    },
    {
      "cell_type": "code",
      "execution_count": null,
      "metadata": {
        "id": "M4PfO16eWjnp"
      },
      "outputs": [],
      "source": [
        "import os\n",
        "from pathlib import Path\n",
        "import numpy as np\n",
        "import collections\n",
        "import time\n",
        "import random\n",
        "from random import randint"
      ]
    },
    {
      "cell_type": "markdown",
      "metadata": {
        "id": "zRlYo9ApoRHK"
      },
      "source": [
        "# Abrir o Livro e criar os 100 textos"
      ]
    },
    {
      "cell_type": "code",
      "execution_count": null,
      "metadata": {
        "id": "A9_58Ob01xlE"
      },
      "outputs": [],
      "source": [
        "livro = '/content/Livro.txt'\n",
        "pastaOutput = '/content/output'\n",
        "if not os.path.exists(pastaOutput):\n",
        "  os.mkdir(pastaOutput)\n",
        "\n",
        "def LimparOutput(directory):\n",
        "    directory = Path(directory)\n",
        "    for item in directory.iterdir():\n",
        "        if item.is_dir():\n",
        "            rmdir(item)\n",
        "        else:\n",
        "            item.unlink()\n",
        "\n",
        "LimparOutput(pastaOutput)\n",
        "\n",
        "with open(livro,'r') as scan:\n",
        "  data = scan.read()\n",
        "  start = 0\n",
        "  end = 300\n",
        "  lines = data.splitlines()\n",
        "\n",
        "  for i in range(1, 101):\n",
        "    ary = np.asarray(lines[start:end])\n",
        "    arquivo = f\"{pastaOutput}/{i}.txt\"\n",
        "    output_file = open(arquivo, \"w\")\n",
        "    word = '\\n'.join(ary)\n",
        "    output_file.write(word)\n",
        "    start = end\n",
        "    end = end + 300\n",
        "  \n",
        "  for i in range(1, 101):\n",
        "    number_of_words = 0\n",
        "    output_arquivo = f\"{pastaOutput}/{i}.txt\"\n",
        "    with open(output_arquivo,'r') as file:\n",
        "      data2 = file.read()\n",
        "      lines2 = data2.split()\n",
        "      number_of_words += len(lines2)\n",
        "      \n",
        "output_file.close()\n"
      ]
    },
    {
      "cell_type": "markdown",
      "metadata": {
        "id": "FQUnadkpoaIT"
      },
      "source": [
        "# Cache LRU"
      ]
    },
    {
      "cell_type": "code",
      "execution_count": null,
      "metadata": {
        "id": "gATcrvIBiabc"
      },
      "outputs": [],
      "source": [
        "class Node:\n",
        "  def __init__(self, key, value):\n",
        "    self.key = key\n",
        "    self.value = value\n",
        "    self.next = None\n",
        "    self.prev = None"
      ]
    },
    {
      "cell_type": "code",
      "execution_count": null,
      "metadata": {
        "id": "2fcesYH6VcmQ"
      },
      "outputs": [],
      "source": [
        "class CacheLRU:\n",
        "  def __init__(self):\n",
        "    self.size = 10\n",
        "    self.lru_cache = dict()\n",
        "    self.head = Node(0, 0)\n",
        "    self.tail = Node(0, 0)\n",
        "    self.head.next = self.tail\n",
        "    self.tail.prev = self.head\n",
        "\n",
        "    self.cacheMiss = 0\n",
        "    self.cacheHit = 0\n",
        "\n",
        "  def add(self, node):\n",
        "    p = self.tail.prev\n",
        "    p.next = node\n",
        "    self.tail.prev = node\n",
        "    node.next = self.tail\n",
        "    node.prev = p\n",
        "\n",
        "  def remove(self, node):\n",
        "    p = node.prev\n",
        "    n = node.next\n",
        "    p.next = n\n",
        "    n.prev = p\n",
        "\n",
        "  def get(self, key):\n",
        "\n",
        "    #Encontrou no cache\n",
        "    if key in self.lru_cache:\n",
        "      n = self.lru_cache[key]\n",
        "      self.remove(n)\n",
        "      self.add(n)\n",
        "      self.cacheHit += 1\n",
        "      return n.value[0]\n",
        "    #Não encontrou no cache\n",
        "    else:\n",
        "      with open(f\"/content/output/{key}.txt\",'r') as scan:\n",
        "        data = scan.read()\n",
        "        self.cacheMiss += 1\n",
        "        saida = self.set(key = key, value = f'{data}')\n",
        "        return saida\n",
        "\n",
        "  def set(self, key, value):\n",
        "    n = Node(key, value)\n",
        "    self.add(n)\n",
        "    self.lru_cache[key] = n\n",
        "    if len(self.lru_cache) > self.size:\n",
        "      n = self.head.next\n",
        "      self.remove(n)\n",
        "      del self.lru_cache[n.key]\n",
        "    return n.value\n",
        " "
      ]
    },
    {
      "cell_type": "markdown",
      "source": [
        "# CacheLFU"
      ],
      "metadata": {
        "id": "DfgEUZ7Cq_Nl"
      }
    },
    {
      "cell_type": "code",
      "source": [
        "class CacheLFU:\n",
        "\n",
        "  def __init__(self):\n",
        "\n",
        "    self.tabelaHash = dict()\n",
        "    self.Cache = dict()\n",
        "    self.contador = 0\n",
        "    self.cacheHit = 0\n",
        "    self.cacheMiss = 0\n",
        "\n",
        "  def freqMin(self, frequencia):\n",
        "    menorFrequencia = []\n",
        "    chaves = []\n",
        "    for x in frequencia:\n",
        "      menorFrequencia.append(frequencia.get(x))\n",
        "      chaves.append(x)\n",
        "    menor = np.min(menorFrequencia)\n",
        "    pos = menorFrequencia.index(menor)\n",
        "    return chaves[pos]\n",
        "\n",
        "  def add(self, chave, conteudo):\n",
        "    self.Cache[chave] = conteudo\n",
        "    self.tabelaHash[chave] = 1\n",
        "\n",
        "  def remove(self):\n",
        "    menorFreq = self.freqMin(self.tabelaHash)\n",
        "    del self.tabelaHash[menorFreq]\n",
        "    del self.Cache[menorFreq]\n",
        "\n",
        "  def get(self, numeroLivro):\n",
        "    if numeroLivro not in self.tabelaHash:\n",
        "      self.cacheMiss += 1\n",
        "      with open(f\"output/{numeroLivro}.txt\", \"r\") as livro:\n",
        "        conteudo = livro.read()\n",
        "      if self.contador >= 10:\n",
        "        self.remove()\n",
        "      self.add(numeroLivro, conteudo)\n",
        "      self.contador += 1\n",
        "      return self.Cache[numeroLivro]\n",
        "    else:\n",
        "      self.cacheHit += 1\n",
        "      self.tabelaHash[numeroLivro] += 1\n",
        "      return self.Cache[numeroLivro]"
      ],
      "metadata": {
        "id": "wx0fUEhLrJ-M"
      },
      "execution_count": null,
      "outputs": []
    },
    {
      "cell_type": "markdown",
      "source": [
        "# CacheFIFO"
      ],
      "metadata": {
        "id": "HI7j0BUy21pb"
      }
    },
    {
      "cell_type": "code",
      "source": [
        "class Lista:\n",
        "  def __init__(self):\n",
        "    self.cabeca = None\n",
        "  \n",
        "  def __repr__(self):\n",
        "    return '[' + str(self.cabeca) + ']'\n",
        "\n",
        "class Nodo:\n",
        "  def __init__(self, livro, numLivro, proxNodo = None):\n",
        "    self.livro = livro\n",
        "    self.proximo = proxNodo\n",
        "    self.numLivro = numLivro\n",
        "\n",
        "  def __repr__(self):\n",
        "        return '%s -> %s' % (self.livro, self.proximo)\n",
        "\n",
        "class CacheFIFO:\n",
        "  def __init__(self):\n",
        "    self.lista = Lista()\n",
        "    self.cacheMiss = 0\n",
        "    self.cacheHit = 0\n",
        "    self.tempo = 0\n",
        "    self.elementos = 0\n",
        "\n",
        "\n",
        "  def add(self, lista, livro, numLivro):\n",
        "    novo_nodo = Nodo(livro, numLivro)\n",
        "    novo_nodo.proximo = self.lista.cabeca\n",
        "    self.lista.cabeca = novo_nodo\n",
        "    return novo_nodo.livro\n",
        "\n",
        "  def busca(self, lista, numeroLivro):\n",
        "      livroAtual = self.lista.cabeca\n",
        "      while livroAtual.numLivro != numeroLivro:\n",
        "          livroAtual = livroAtual.proximo\n",
        "\n",
        "  def remove(self, nodo):\n",
        "    nodo.proximo = None\n",
        "\n",
        "  def get(self, numeroLivro):\n",
        "    tempoInicial = time.time()\n",
        "    livro = CacheFIFO.set(self, int(numeroLivro), self.lista.cabeca, None)\n",
        "    tempoFinal = time.time()\n",
        "    self.tempo = (tempoFinal - tempoInicial)\n",
        "    return livro\n",
        "\n",
        "  def set(self, numeroLivro, nodo, nodoAnterior):\n",
        "    if nodo == None:\n",
        "      self.elementos += 1\n",
        "      self.cacheMiss += 1\n",
        "      with open(f\"output/{numeroLivro}.txt\") as livro:\n",
        "        conteudo = livro.read()\n",
        "        livro = CacheFIFO.add(self, self.lista, conteudo, numeroLivro)\n",
        "        return livro\n",
        "    elif nodo.proximo == None and nodo.numLivro != numeroLivro:\n",
        "      self.elementos += 1\n",
        "      self.cacheMiss += 1\n",
        "      if self.elementos >= 10:\n",
        "        CacheFIFO.remove(self, nodoAnterior)\n",
        "      with open(f\"output/{numeroLivro}.txt\") as livro:\n",
        "        conteudo = livro.read()\n",
        "        livro = CacheFIFO.add(self, self.lista, conteudo, int(numeroLivro))\n",
        "        return livro\n",
        "    elif nodo.numLivro == numeroLivro:\n",
        "      self.cacheHit += 1 \n",
        "      return nodo.livro\n",
        "    return CacheFIFO.set(self, int(numeroLivro), nodo.proximo, nodo)\n",
        "\n",
        "  def percorrer(self, nodo):\n",
        "    if nodo.proximo != None:\n",
        "      CacheFIFO.percorrer(self, nodo.proximo)\n",
        "    else:\n",
        "      return 1\n",
        "\n"
      ],
      "metadata": {
        "id": "j5qRho_f251s"
      },
      "execution_count": null,
      "outputs": []
    },
    {
      "cell_type": "markdown",
      "metadata": {
        "id": "WSTCkk2soirZ"
      },
      "source": [
        "# Modo Simulação"
      ]
    },
    {
      "cell_type": "code",
      "execution_count": null,
      "metadata": {
        "id": "uKfsxpplkjH4"
      },
      "outputs": [],
      "source": [
        " class Simular:\n",
        "  def __init__(self, cache):\n",
        "    usuario1 = cache()\n",
        "    usuario2 = cache()\n",
        "    usuario3 = cache()\n",
        "    self.usuarios = [usuario1, usuario2, usuario3]\n",
        "    self.OutputLog(self.AleatorioPuro())\n",
        "    self.OutputLog(self.AleatorioPoison())\n",
        "    self.OutputLog(self.AleatorioManipulado())\n",
        "\n",
        "\n",
        "  def AleatorioPuro(self):\n",
        "    log = [self.usuarios[0].__class__.__name__, \"Aleatorio Puro\"]\n",
        "    mediaTotal = 0\n",
        "    mediaMedia = 0\n",
        "    #Percorre a lista de usuarios\n",
        "    for index, usuario in enumerate(self.usuarios):\n",
        "      tempoTotal = 0\n",
        "      for i in range(200):\n",
        "        random = randint(1, 100)\n",
        "        inicio = time.time()\n",
        "        usuario.get(f\"{random}\")\n",
        "        fim = time.time()\n",
        "        tempoTotal += fim - inicio\n",
        "\n",
        "      tempoMedio = tempoTotal / 200\n",
        "      mediaMedia += tempoMedio\n",
        "      mediaTotal += tempoTotal\n",
        "      info = [index + 1,\n",
        "              usuario.cacheHit,\n",
        "              usuario.cacheMiss,\n",
        "              tempoTotal,\n",
        "              tempoMedio\n",
        "              ]\n",
        "      log.append(info)\n",
        "    mediaTotal = mediaTotal / 3\n",
        "    mediaMedia = mediaMedia / 3\n",
        "\n",
        "    log.append(mediaTotal)\n",
        "    log.append(mediaMedia)\n",
        "    return log\n",
        "  \n",
        "  def AleatorioPoison(self):\n",
        "    parametroPoisson = 5\n",
        "    log = [self.usuarios[0].__class__.__name__, \"Aleatorio Poison\"]\n",
        "    mediaTotal = 0\n",
        "    mediaMedia = 0\n",
        "\n",
        "\n",
        "    for index, usuario in enumerate(self.usuarios):\n",
        "      tempoTotal = 0\n",
        "      random = np.random.poisson(parametroPoisson, 200) + 1\n",
        "      for x in random:\n",
        "        inicio = time.time()\n",
        "        usuario.get(f\"{x}\")\n",
        "        fim = time.time()\n",
        "        tempoTotal += fim - inicio\n",
        "\n",
        "      tempoMedio = tempoTotal / 200\n",
        "      mediaMedia += tempoMedio\n",
        "      mediaTotal += tempoTotal\n",
        "\n",
        "      info = [index + 1,\n",
        "              usuario.cacheHit,\n",
        "              usuario.cacheMiss,\n",
        "              tempoTotal,\n",
        "              tempoMedio\n",
        "              ]\n",
        "      log.append(info)\n",
        "    mediaTotal = mediaTotal / 3\n",
        "    mediaMedia = mediaMedia / 3\n",
        "    log.append(mediaTotal)\n",
        "    log.append(mediaMedia)\n",
        "\n",
        "    return log\n",
        "\n",
        "  def AleatorioManipulado(self):\n",
        "    log = [self.usuarios[0].__class__.__name__, \"Aleatorio Manipulado\"]\n",
        "    mediaTotal = 0\n",
        "    mediaMedia = 0\n",
        "    for index, usuario in enumerate(self.usuarios):\n",
        "      tempoTotal = 0\n",
        "      numeros = np.arange(1, 101, 1)\n",
        "      weights = []\n",
        "      for i in range(1, 101):\n",
        "        if i >= 30  and i <= 40:\n",
        "          weights.append(3)\n",
        "        else:\n",
        "          weights.append(0.75)\n",
        "      randomNumbers = random.choices(numeros, weights, k=200)\n",
        "      for x in randomNumbers:\n",
        "        inicio = time.time()\n",
        "        usuario.get(f\"{x}\")\n",
        "        fim = time.time()\n",
        "        tempoTotal += fim - inicio\n",
        "\n",
        "      tempoMedio = tempoTotal / 200\n",
        "      mediaMedia += tempoMedio\n",
        "      mediaTotal += tempoTotal\n",
        "\n",
        "      info = [index + 1,\n",
        "              usuario.cacheHit,\n",
        "              usuario.cacheMiss,\n",
        "              tempoTotal,\n",
        "              tempoMedio\n",
        "              ]\n",
        "      log.append(info)\n",
        "\n",
        "    mediaTotal = mediaTotal / 3\n",
        "    mediaMedia = mediaMedia / 3\n",
        "    log.append(mediaTotal)\n",
        "    log.append(mediaMedia)\n",
        "    return log\n",
        "  \n",
        "  def OutputLog(self, log):\n",
        "    cacheLog = open(\"CacheLog.txt\", \"a\")\n",
        "    cacheLog.write(f\"{log[0]} - \")\n",
        "    cacheLog.write(f\"{log[1]}\\n\")\n",
        "\n",
        "    for info in log[2:5]:\n",
        "      cacheLog.write(f\"\\tUsuario {info[0]}\\n\")\n",
        "      cacheLog.write(f\"\\t\\tCache Hit: {info[1]}\\n\")\n",
        "      cacheLog.write(f\"\\t\\tCache Miss: {info[2]}\\n\")\n",
        "      cacheLog.write(f\"\\t\\tTempo Total de resposta: {info[3]:10f}\\n\")\n",
        "      cacheLog.write(f\"\\t\\tTempo Médio de resposta: {info[4]:10f}\\n\")\n",
        "\n",
        "    cacheLog.write(f\"\\tEficiência do {log[1]} ao carregar 200 arquivos: {log[5]:10f}\\n\")\n",
        "    cacheLog.write(f\"\\tEficiência do {log[1]} ao carregar 1 arquivo: {log[6]:10f}\\n\")\n",
        "    cacheLog.write('-'*60 + '\\n')\n",
        "\n",
        "    return"
      ]
    },
    {
      "cell_type": "markdown",
      "metadata": {
        "id": "CcFaVff72TZx"
      },
      "source": [
        "# Main"
      ]
    },
    {
      "cell_type": "code",
      "execution_count": null,
      "metadata": {
        "colab": {
          "base_uri": "https://localhost:8080/",
          "height": 397
        },
        "id": "Px17_9AYwCEC",
        "outputId": "937e18d9-85d1-4247-c627-544ff494aba8"
      },
      "outputs": [
        {
          "output_type": "error",
          "ename": "KeyboardInterrupt",
          "evalue": "ignored",
          "traceback": [
            "\u001b[0;31m---------------------------------------------------------------------------\u001b[0m",
            "\u001b[0;31mKeyboardInterrupt\u001b[0m                         Traceback (most recent call last)",
            "\u001b[0;32m<ipython-input-32-f152f7637086>\u001b[0m in \u001b[0;36m<cell line: 1>\u001b[0;34m()\u001b[0m\n\u001b[0;32m----> 1\u001b[0;31m \u001b[0mtipoCache\u001b[0m \u001b[0;34m=\u001b[0m \u001b[0mint\u001b[0m\u001b[0;34m(\u001b[0m\u001b[0minput\u001b[0m\u001b[0;34m(\u001b[0m\u001b[0;34m\"Escolha entre:\\n\\t[1]Cache LRU\\n\\t[2]CacheLFU\\n\\t[3]CacheFIFO\\n>>>\"\u001b[0m\u001b[0;34m)\u001b[0m\u001b[0;34m)\u001b[0m\u001b[0;34m\u001b[0m\u001b[0;34m\u001b[0m\u001b[0m\n\u001b[0m\u001b[1;32m      2\u001b[0m \u001b[0mentradaUsuario\u001b[0m \u001b[0;34m=\u001b[0m \u001b[0mint\u001b[0m\u001b[0;34m(\u001b[0m\u001b[0minput\u001b[0m\u001b[0;34m(\u001b[0m\u001b[0;34m\"Digite o número do livro a ser solicitado, ou -1 para entrar no modo de simulação\\n\\t>>>\"\u001b[0m\u001b[0;34m)\u001b[0m\u001b[0;34m)\u001b[0m\u001b[0;34m\u001b[0m\u001b[0;34m\u001b[0m\u001b[0m\n\u001b[1;32m      3\u001b[0m \u001b[0;32mwhile\u001b[0m\u001b[0;34m(\u001b[0m\u001b[0;36m0\u001b[0m \u001b[0;34m>\u001b[0m \u001b[0mtipoCache\u001b[0m \u001b[0;34m>\u001b[0m \u001b[0;36m3\u001b[0m \u001b[0;34m)\u001b[0m\u001b[0;34m:\u001b[0m\u001b[0;34m\u001b[0m\u001b[0;34m\u001b[0m\u001b[0m\n\u001b[1;32m      4\u001b[0m   \u001b[0mtipoCache\u001b[0m \u001b[0;34m=\u001b[0m \u001b[0mint\u001b[0m\u001b[0;34m(\u001b[0m\u001b[0minput\u001b[0m\u001b[0;34m(\u001b[0m\u001b[0;34m\"Escolha inválida: \\n>>>\"\u001b[0m\u001b[0;34m)\u001b[0m\u001b[0;34m)\u001b[0m\u001b[0;34m\u001b[0m\u001b[0;34m\u001b[0m\u001b[0m\n\u001b[1;32m      5\u001b[0m \u001b[0;34m\u001b[0m\u001b[0m\n",
            "\u001b[0;32m/usr/local/lib/python3.9/dist-packages/ipykernel/kernelbase.py\u001b[0m in \u001b[0;36mraw_input\u001b[0;34m(self, prompt)\u001b[0m\n\u001b[1;32m    849\u001b[0m                 \u001b[0;34m\"raw_input was called, but this frontend does not support input requests.\"\u001b[0m\u001b[0;34m\u001b[0m\u001b[0;34m\u001b[0m\u001b[0m\n\u001b[1;32m    850\u001b[0m             )\n\u001b[0;32m--> 851\u001b[0;31m         return self._input_request(str(prompt),\n\u001b[0m\u001b[1;32m    852\u001b[0m             \u001b[0mself\u001b[0m\u001b[0;34m.\u001b[0m\u001b[0m_parent_ident\u001b[0m\u001b[0;34m,\u001b[0m\u001b[0;34m\u001b[0m\u001b[0;34m\u001b[0m\u001b[0m\n\u001b[1;32m    853\u001b[0m             \u001b[0mself\u001b[0m\u001b[0;34m.\u001b[0m\u001b[0m_parent_header\u001b[0m\u001b[0;34m,\u001b[0m\u001b[0;34m\u001b[0m\u001b[0;34m\u001b[0m\u001b[0m\n",
            "\u001b[0;32m/usr/local/lib/python3.9/dist-packages/ipykernel/kernelbase.py\u001b[0m in \u001b[0;36m_input_request\u001b[0;34m(self, prompt, ident, parent, password)\u001b[0m\n\u001b[1;32m    893\u001b[0m             \u001b[0;32mexcept\u001b[0m \u001b[0mKeyboardInterrupt\u001b[0m\u001b[0;34m:\u001b[0m\u001b[0;34m\u001b[0m\u001b[0;34m\u001b[0m\u001b[0m\n\u001b[1;32m    894\u001b[0m                 \u001b[0;31m# re-raise KeyboardInterrupt, to truncate traceback\u001b[0m\u001b[0;34m\u001b[0m\u001b[0;34m\u001b[0m\u001b[0m\n\u001b[0;32m--> 895\u001b[0;31m                 \u001b[0;32mraise\u001b[0m \u001b[0mKeyboardInterrupt\u001b[0m\u001b[0;34m(\u001b[0m\u001b[0;34m\"Interrupted by user\"\u001b[0m\u001b[0;34m)\u001b[0m \u001b[0;32mfrom\u001b[0m \u001b[0;32mNone\u001b[0m\u001b[0;34m\u001b[0m\u001b[0;34m\u001b[0m\u001b[0m\n\u001b[0m\u001b[1;32m    896\u001b[0m             \u001b[0;32mexcept\u001b[0m \u001b[0mException\u001b[0m \u001b[0;32mas\u001b[0m \u001b[0me\u001b[0m\u001b[0;34m:\u001b[0m\u001b[0;34m\u001b[0m\u001b[0;34m\u001b[0m\u001b[0m\n\u001b[1;32m    897\u001b[0m                 \u001b[0mself\u001b[0m\u001b[0;34m.\u001b[0m\u001b[0mlog\u001b[0m\u001b[0;34m.\u001b[0m\u001b[0mwarning\u001b[0m\u001b[0;34m(\u001b[0m\u001b[0;34m\"Invalid Message:\"\u001b[0m\u001b[0;34m,\u001b[0m \u001b[0mexc_info\u001b[0m\u001b[0;34m=\u001b[0m\u001b[0;32mTrue\u001b[0m\u001b[0;34m)\u001b[0m\u001b[0;34m\u001b[0m\u001b[0;34m\u001b[0m\u001b[0m\n",
            "\u001b[0;31mKeyboardInterrupt\u001b[0m: Interrupted by user"
          ]
        }
      ],
      "source": [
        "tipoCache = int(input(\"Escolha entre:\\n\\t[1]Cache LRU\\n\\t[2]CacheLFU\\n\\t[3]CacheFIFO\\n>>>\"))\n",
        "entradaUsuario = int(input(\"Digite o número do livro a ser solicitado, ou -1 para entrar no modo de simulação\\n\\t>>>\"))\n",
        "while(0 > tipoCache > 3 ):\n",
        "  tipoCache = int(input(\"Escolha inválida: \\n>>>\"))\n",
        "\n",
        "if tipoCache == 1:\n",
        "  usuario = CacheLRU()\n",
        "elif tipoCache == 2:\n",
        "  usuario = CacheLFU()\n",
        "else:\n",
        "  usuario = CacheFIFO()\n",
        "\n",
        "while(entradaUsuario != 0):\n",
        "  if entradaUsuario == -1:\n",
        "    cacheLog = open(\"CacheLog.txt\", \"w\")\n",
        "    cacheLog.write('')\n",
        "    Simular(CacheLRU)\n",
        "    Simular(CacheFIFO)\n",
        "    Simular(CacheLFU)\n",
        "    entradaUsuario = int(input(\"Digite o número do livro a ser solicitado, ou -1 para entrar no modo de simulação\\n\\t>>>\"))\n",
        "  else:\n",
        "    fim = 0\n",
        "    inicio = time.time()\n",
        "    saida = usuario.get(entradaUsuario)\n",
        "    fim = time.time()\n",
        "    print(saida)\n",
        "    tempo = fim - inicio\n",
        "    print(f\"Usuario:\\n\\tCache Hit: {usuario.cacheHit}\\n\\tCache Miss: {usuario.cacheMiss}\\n\\tTempo de resposta: {tempo:.20f}\")\n",
        "    entradaUsuario = int(input(\"Digite o número do texto a ser solicitado, ou -1 para entrar no modo de simulação\\n\\t>>>\"))"
      ]
    }
  ],
  "metadata": {
    "colab": {
      "collapsed_sections": [
        "zRlYo9ApoRHK",
        "FQUnadkpoaIT",
        "DfgEUZ7Cq_Nl",
        "WSTCkk2soirZ"
      ],
      "provenance": [],
      "include_colab_link": true
    },
    "kernelspec": {
      "display_name": "Python 3",
      "name": "python3"
    },
    "language_info": {
      "name": "python"
    }
  },
  "nbformat": 4,
  "nbformat_minor": 0
}